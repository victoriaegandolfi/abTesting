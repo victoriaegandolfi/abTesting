{
 "cells": [
  {
   "cell_type": "markdown",
   "id": "1ef5f660",
   "metadata": {},
   "source": [
    "# Teste A/B\n",
    "\n",
    "O objetivo desse teste é simular a implementação de um teste A/B, usando uma base de dados do curso da Udacity¹. O propósito do teste conduzido é verificar o impacto de uma landing page em um site. Cabe a esse estudo determinar se a implementação da landing page no site causará um aumento de conversão de usuários significativo.\n",
    "\n",
    "O teste A/B é um método de experimentação que tem como objetivo comparar duas versões de uma variável para definir se elas performam diferentement eem um ambiente controlado. Nesse caso, os usuários foram divididos em dois grupos amostrais aleatoriamente: o grupo de controle e o grupo de tratamento. Os usuários do grupo de controle foram expostos à página do site sem landing page. Já os usuários do grupo de tratamento foram expostos à landing page. A partir de uma análise dos resultados do teste, espera-se determinar se a implementação da landing page aumentará a conversão de usuários de forma significativa.\n",
    "\n",
    "A fim de analisar os dados do teste conduzido, o projeto divide-se em tópicos:\n",
    "\n",
    "1. Tratamento da base de dados\n",
    "2. Análise exploratória dos dados\n",
    "3. Teste de hipótese\n",
    "4. Conclusões\n",
    "5. Referências"
   ]
  },
  {
   "cell_type": "markdown",
   "id": "46be2db4",
   "metadata": {},
   "source": [
    "# 1. Tratamento da base de dados\n",
    "\n",
    "Antes de analisar os resultados, é necessário verificar a base de dados. Primeiramente, é preciso garantir que todos os usuários do grupo de controle visualizaram a página do site usual e todos os usuários do grupo de tratamento visualizaram a landing page. Analisando a base de dados, percebe-se usuários repetidos e que visualizaram a página errada. Para corrigir esse erro, foram excluídas as observações referentes a usuários visualizando a página errada durante o exerimento.\n",
    "\n",
    "Além disso, foi necessário garantir que cada usuário aparece em apenas uma obervação da base de dados e para isso foram excluídas duplicatas na coluna user_id. Como não constam valores nulos, não foi necessário realizar alterações nesse sentido. Como o primeiro e último dia do experimento referem-se apenas a meio período, foram retirados da base de dados."
   ]
  },
  {
   "cell_type": "code",
   "execution_count": 43,
   "id": "56963538",
   "metadata": {},
   "outputs": [],
   "source": [
    "import pandas as pd\n",
    "import seaborn as sns\n",
    "import numpy as np\n",
    "import matplotlib.pyplot as plt\n",
    "import scipy.stats as ss\n",
    "import statsmodels.stats.api as sms\n",
    "import math"
   ]
  },
  {
   "cell_type": "code",
   "execution_count": 44,
   "id": "80a86450",
   "metadata": {},
   "outputs": [
    {
     "data": {
      "text/html": [
       "<div>\n",
       "<style scoped>\n",
       "    .dataframe tbody tr th:only-of-type {\n",
       "        vertical-align: middle;\n",
       "    }\n",
       "\n",
       "    .dataframe tbody tr th {\n",
       "        vertical-align: top;\n",
       "    }\n",
       "\n",
       "    .dataframe thead th {\n",
       "        text-align: right;\n",
       "    }\n",
       "</style>\n",
       "<table border=\"1\" class=\"dataframe\">\n",
       "  <thead>\n",
       "    <tr style=\"text-align: right;\">\n",
       "      <th></th>\n",
       "      <th>user_id</th>\n",
       "      <th>timestamp</th>\n",
       "      <th>group</th>\n",
       "      <th>landing_page</th>\n",
       "      <th>converted</th>\n",
       "    </tr>\n",
       "  </thead>\n",
       "  <tbody>\n",
       "    <tr>\n",
       "      <th>0</th>\n",
       "      <td>851104</td>\n",
       "      <td>2017-01-21 22:11:48.556739</td>\n",
       "      <td>control</td>\n",
       "      <td>old_page</td>\n",
       "      <td>0</td>\n",
       "    </tr>\n",
       "    <tr>\n",
       "      <th>1</th>\n",
       "      <td>804228</td>\n",
       "      <td>2017-01-12 08:01:45.159739</td>\n",
       "      <td>control</td>\n",
       "      <td>old_page</td>\n",
       "      <td>0</td>\n",
       "    </tr>\n",
       "    <tr>\n",
       "      <th>2</th>\n",
       "      <td>661590</td>\n",
       "      <td>2017-01-11 16:55:06.154213</td>\n",
       "      <td>treatment</td>\n",
       "      <td>new_page</td>\n",
       "      <td>0</td>\n",
       "    </tr>\n",
       "    <tr>\n",
       "      <th>3</th>\n",
       "      <td>853541</td>\n",
       "      <td>2017-01-08 18:28:03.143765</td>\n",
       "      <td>treatment</td>\n",
       "      <td>new_page</td>\n",
       "      <td>0</td>\n",
       "    </tr>\n",
       "    <tr>\n",
       "      <th>4</th>\n",
       "      <td>864975</td>\n",
       "      <td>2017-01-21 01:52:26.210827</td>\n",
       "      <td>control</td>\n",
       "      <td>old_page</td>\n",
       "      <td>1</td>\n",
       "    </tr>\n",
       "  </tbody>\n",
       "</table>\n",
       "</div>"
      ],
      "text/plain": [
       "   user_id                   timestamp      group landing_page  converted\n",
       "0   851104  2017-01-21 22:11:48.556739    control     old_page          0\n",
       "1   804228  2017-01-12 08:01:45.159739    control     old_page          0\n",
       "2   661590  2017-01-11 16:55:06.154213  treatment     new_page          0\n",
       "3   853541  2017-01-08 18:28:03.143765  treatment     new_page          0\n",
       "4   864975  2017-01-21 01:52:26.210827    control     old_page          1"
      ]
     },
     "execution_count": 44,
     "metadata": {},
     "output_type": "execute_result"
    }
   ],
   "source": [
    "df = pd.read_csv('ab_data.csv', sep=',')\n",
    "df.head()"
   ]
  },
  {
   "cell_type": "code",
   "execution_count": 45,
   "id": "9d664bf7",
   "metadata": {},
   "outputs": [
    {
     "data": {
      "text/plain": [
       "(294478, 5)"
      ]
     },
     "execution_count": 45,
     "metadata": {},
     "output_type": "execute_result"
    }
   ],
   "source": [
    "df.shape"
   ]
  },
  {
   "cell_type": "code",
   "execution_count": 46,
   "id": "70c88665",
   "metadata": {},
   "outputs": [
    {
     "name": "stdout",
     "output_type": "stream",
     "text": [
      "<class 'pandas.core.frame.DataFrame'>\n",
      "RangeIndex: 294478 entries, 0 to 294477\n",
      "Data columns (total 5 columns):\n",
      " #   Column        Non-Null Count   Dtype \n",
      "---  ------        --------------   ----- \n",
      " 0   user_id       294478 non-null  int64 \n",
      " 1   timestamp     294478 non-null  object\n",
      " 2   group         294478 non-null  object\n",
      " 3   landing_page  294478 non-null  object\n",
      " 4   converted     294478 non-null  int64 \n",
      "dtypes: int64(2), object(3)\n",
      "memory usage: 11.2+ MB\n"
     ]
    }
   ],
   "source": [
    "df.info()"
   ]
  },
  {
   "cell_type": "code",
   "execution_count": 47,
   "id": "96cee73d",
   "metadata": {},
   "outputs": [],
   "source": [
    "df.drop(df.loc[(df['group'] == 'control') & (df['landing_page'] == 'new_page')].index, inplace=True)\n",
    "df.drop(df.loc[(df['group'] == 'treatment') & (df['landing_page'] == 'old_page')].index, inplace=True)"
   ]
  },
  {
   "cell_type": "code",
   "execution_count": 48,
   "id": "6dd64b0b",
   "metadata": {},
   "outputs": [
    {
     "data": {
      "text/plain": [
       "290584"
      ]
     },
     "execution_count": 48,
     "metadata": {},
     "output_type": "execute_result"
    }
   ],
   "source": [
    "len(df['user_id'].unique())"
   ]
  },
  {
   "cell_type": "code",
   "execution_count": 49,
   "id": "e49a93dd",
   "metadata": {},
   "outputs": [],
   "source": [
    "df.drop_duplicates(['user_id'], inplace=True)"
   ]
  },
  {
   "cell_type": "code",
   "execution_count": 50,
   "id": "c72ec0c9",
   "metadata": {},
   "outputs": [],
   "source": [
    "df['timestamp'] = pd.to_datetime(df['timestamp'])\n",
    "df['date'] = df['timestamp'].dt.strftime('%Y-%m-%d')\n",
    "df = df.loc[(df['date'] > '2017-01-02') & (df['date'] < '2017-01-24')]"
   ]
  },
  {
   "cell_type": "markdown",
   "id": "c47d8d3d",
   "metadata": {},
   "source": [
    "# 2. Análise exploratória dos dados\n",
    "\n",
    "A partir da análise exploratória dos dados, é possível perceber que no total 290.584 usuários participaram do experimento, divididos em grupo de controle (145.274) e grupo de tratamento (145.310).\n",
    "\n",
    "O experimento foi realizado entre os dias 03/01/2017 e 23/01/2017. A média de conversão do site no período de é de 12% e os valores de conversão vão de 274 a 850.\n",
    "\n",
    "Durante o experimento, o grupo de tratamento apresentou números levemente maiores de conversão: enquanto a taxa de conversão do grupo de controle foi de 11,88%, a taxa do grupo de tratamento foi de 12,03%."
   ]
  },
  {
   "cell_type": "code",
   "execution_count": 51,
   "id": "4182f316",
   "metadata": {},
   "outputs": [
    {
     "data": {
      "text/plain": [
       "0.11952623478483404"
      ]
     },
     "execution_count": 51,
     "metadata": {},
     "output_type": "execute_result"
    }
   ],
   "source": [
    "df['converted'].mean()"
   ]
  },
  {
   "cell_type": "code",
   "execution_count": 52,
   "id": "7dcd6801",
   "metadata": {},
   "outputs": [
    {
     "data": {
      "text/html": [
       "<div>\n",
       "<style scoped>\n",
       "    .dataframe tbody tr th:only-of-type {\n",
       "        vertical-align: middle;\n",
       "    }\n",
       "\n",
       "    .dataframe tbody tr th {\n",
       "        vertical-align: top;\n",
       "    }\n",
       "\n",
       "    .dataframe thead tr th {\n",
       "        text-align: left;\n",
       "    }\n",
       "\n",
       "    .dataframe thead tr:last-of-type th {\n",
       "        text-align: right;\n",
       "    }\n",
       "</style>\n",
       "<table border=\"1\" class=\"dataframe\">\n",
       "  <thead>\n",
       "    <tr>\n",
       "      <th></th>\n",
       "      <th></th>\n",
       "      <th colspan=\"8\" halign=\"left\">user_id</th>\n",
       "    </tr>\n",
       "    <tr>\n",
       "      <th></th>\n",
       "      <th></th>\n",
       "      <th>count</th>\n",
       "      <th>mean</th>\n",
       "      <th>std</th>\n",
       "      <th>min</th>\n",
       "      <th>25%</th>\n",
       "      <th>50%</th>\n",
       "      <th>75%</th>\n",
       "      <th>max</th>\n",
       "    </tr>\n",
       "    <tr>\n",
       "      <th>group</th>\n",
       "      <th>converted</th>\n",
       "      <th></th>\n",
       "      <th></th>\n",
       "      <th></th>\n",
       "      <th></th>\n",
       "      <th></th>\n",
       "      <th></th>\n",
       "      <th></th>\n",
       "      <th></th>\n",
       "    </tr>\n",
       "  </thead>\n",
       "  <tbody>\n",
       "    <tr>\n",
       "      <th rowspan=\"2\" valign=\"top\">control</th>\n",
       "      <th>0</th>\n",
       "      <td>121974.0</td>\n",
       "      <td>788169.169430</td>\n",
       "      <td>91250.426029</td>\n",
       "      <td>630002.0</td>\n",
       "      <td>709335.25</td>\n",
       "      <td>788191.5</td>\n",
       "      <td>867093.50</td>\n",
       "      <td>945998.0</td>\n",
       "    </tr>\n",
       "    <tr>\n",
       "      <th>1</th>\n",
       "      <td>16687.0</td>\n",
       "      <td>787533.141427</td>\n",
       "      <td>91403.303669</td>\n",
       "      <td>630009.0</td>\n",
       "      <td>708545.00</td>\n",
       "      <td>786615.0</td>\n",
       "      <td>867634.00</td>\n",
       "      <td>945991.0</td>\n",
       "    </tr>\n",
       "    <tr>\n",
       "      <th rowspan=\"2\" valign=\"top\">treatment</th>\n",
       "      <th>0</th>\n",
       "      <td>122302.0</td>\n",
       "      <td>787555.219252</td>\n",
       "      <td>91083.376318</td>\n",
       "      <td>630000.0</td>\n",
       "      <td>708467.25</td>\n",
       "      <td>787647.0</td>\n",
       "      <td>866260.50</td>\n",
       "      <td>945999.0</td>\n",
       "    </tr>\n",
       "    <tr>\n",
       "      <th>1</th>\n",
       "      <td>16474.0</td>\n",
       "      <td>789609.137064</td>\n",
       "      <td>91474.165026</td>\n",
       "      <td>630001.0</td>\n",
       "      <td>710848.25</td>\n",
       "      <td>789451.5</td>\n",
       "      <td>868757.75</td>\n",
       "      <td>945989.0</td>\n",
       "    </tr>\n",
       "  </tbody>\n",
       "</table>\n",
       "</div>"
      ],
      "text/plain": [
       "                      user_id                                         \\\n",
       "                        count           mean           std       min   \n",
       "group     converted                                                    \n",
       "control   0          121974.0  788169.169430  91250.426029  630002.0   \n",
       "          1           16687.0  787533.141427  91403.303669  630009.0   \n",
       "treatment 0          122302.0  787555.219252  91083.376318  630000.0   \n",
       "          1           16474.0  789609.137064  91474.165026  630001.0   \n",
       "\n",
       "                                                               \n",
       "                           25%       50%        75%       max  \n",
       "group     converted                                            \n",
       "control   0          709335.25  788191.5  867093.50  945998.0  \n",
       "          1          708545.00  786615.0  867634.00  945991.0  \n",
       "treatment 0          708467.25  787647.0  866260.50  945999.0  \n",
       "          1          710848.25  789451.5  868757.75  945989.0  "
      ]
     },
     "execution_count": 52,
     "metadata": {},
     "output_type": "execute_result"
    }
   ],
   "source": [
    "df.groupby(['group', 'converted']).describe()"
   ]
  },
  {
   "cell_type": "code",
   "execution_count": 53,
   "id": "d720de3c",
   "metadata": {},
   "outputs": [
    {
     "data": {
      "image/png": "[encoded data removed]",
      "text/plain": [
       "<Figure size 640x480 with 1 Axes>"
      ]
     },
     "metadata": {},
     "output_type": "display_data"
    }
   ],
   "source": [
    "df_grouped = df.groupby(['group', 'date']).agg(sum_conv=('converted', 'sum')).sort_values('date', ascending=True).reset_index()\n",
    "graph = df_grouped.plot(x='date', xlabel='Data', ylabel='Converted')\n",
    "plt.show()"
   ]
  },
  {
   "cell_type": "markdown",
   "id": "05c11d69",
   "metadata": {},
   "source": [
    "# 3. Teste de hipótese\n",
    "\n",
    "Ainda que a taxa de conversão do grupo de tratamento tenha apresentado resultados levemente melhores (12,03% contra 11,88%), é preciso determinar se essa diferença é estatisticamente significativa. Para isso, aplica-se aqui um teste de hipótese t, já que a amostra é maior que 30.\n",
    "\n",
    "A fim de implementar o teste de hipótese, cria-se as seguintes hipóteses:\n",
    "\n",
    "H0: Usuários que receberam a landing page não terão taxa de conversão maior que os usuários que receberam a página do site usual.\n",
    "\n",
    "H1: A taxa de conversão de usuários que visualizaram a landing page é maior que a taxa de conversão de usuários que visualizaram a página do site usual.\n",
    "\n",
    "Com um nível de confiança de 95%, a hipótese nula pode ser rejeitada caso o p-valor seja menor que 0.05. O p-valor do teste-t é de 0.18, o que não nos permite rejeitar a hipótese nula."
   ]
  },
  {
   "cell_type": "code",
   "execution_count": 54,
   "id": "06d5b65e",
   "metadata": {},
   "outputs": [
    {
     "name": "stdout",
     "output_type": "stream",
     "text": [
      "T-stat:  1.3269866084738058\n",
      "p-valor:  0.1845142046548027\n"
     ]
    }
   ],
   "source": [
    "control = df[df.group == 'control']['converted']\n",
    "treatment = df[df.group == 'treatment']['converted']\n",
    "t_stat, p_val= ss.ttest_ind(control, treatment)\n",
    "print('T-stat: ', t_stat)\n",
    "print('p-valor: ', p_val)"
   ]
  },
  {
   "cell_type": "code",
   "execution_count": 55,
   "id": "a972f7a4",
   "metadata": {},
   "outputs": [
    {
     "name": "stdout",
     "output_type": "stream",
     "text": [
      "Intervalo de confiança (95%) - grupo de controle: (0.11863, 0.12206)\n",
      "Intervalo de confiança (95%) - grupo de experimento: (0.11701, 0.12041)\n"
     ]
    }
   ],
   "source": [
    "confidence_lvl = 0.95\n",
    "\n",
    "(lower_con, upper_con) = ss.norm.interval(alpha=confidence_lvl, loc=np.mean(control), scale=ss.sem(control))\n",
    "(lower_treat, upper_treat) = ss.norm.interval(alpha=confidence_lvl, loc=np.mean(treatment), scale=ss.sem(treatment))\n",
    "print(f\"Intervalo de confiança (95%) - grupo de controle: ({lower_con:.5f}, {upper_con:.5f})\")\n",
    "print(f\"Intervalo de confiança (95%) - grupo de experimento: ({lower_treat:.5f}, {upper_treat:.5f})\")"
   ]
  },
  {
   "cell_type": "markdown",
   "id": "1b7e5c5e",
   "metadata": {},
   "source": [
    "# 4. Conclusões\n",
    "\n",
    "Esse estudo teve como objetivo determinar se a implementação da landing page seria economicamente atrativa, ao aumentar as taxas de conversão. Para isso, foi realizado um experimento entre os dias 03/01/2017 e 23/01/2017 em que os usuários foram divididos em grupos de controle e de tratamento. Os usuários do grupo de controle receberam a página do site usual, enquanto os usuários do grupo de tratamento receberam a página do site com landing page.\n",
    "\n",
    "Durante o experimento, a média da taxa de conversão dos usuários foi de 12% e os usuários do grupo de tratamento apresentaram uma taxa de conversão um pouco mais elevada (12,03%) que a taxa de conversão do grupo de controle (11,88%). Para verificar se esse resultado é estatisticamente significativo, aplicou-se um teste-t para testar as seguintes hipóteses:\n",
    "\n",
    "H0: Usuários que receberam a landing page não terão taxa de conversão maior que os usuários que receberam a página do site usual.\n",
    "H1: A taxa de conversão de usuários que visualizaram a landing page é maior que a taxa de conversão de usuários que visualizaram a página do site usual.\n",
    "\n",
    "Com um nível de confiança de 95%, o p-valor foi de 0.18, ou seja, não é possível rejeitar a hipótese nula. Isso significa que os resultados do grupo de tratamento não são estatisticamente significativos e a landing page implementada não é economicamente atrativa. Como evolução do projeto, é possível desenhar um outro experimento para aumentar as taxas de conversão dos usuários."
   ]
  },
  {
   "cell_type": "markdown",
   "id": "d4b1d9d0",
   "metadata": {},
   "source": [
    "# 5. Referências\n",
    "\n",
    "1. https://github.com/erdiolmezogullari/ml-ab-testing\n",
    "\n",
    "2. https://github.com/gabrielleuzinger/A-B-Test/blob/main/A-B%20Test.ipynb\n",
    "\n",
    "3. https://www.analyticsvidhya.com/blog/2020/10/ab-testing-data-science/\n",
    "\n",
    "4. https://www.analyticsvidhya.com/blog/2020/10/ab-testing-data-science/"
   ]
  }
 ],
 "metadata": {
  "kernelspec": {
   "display_name": "Python 3",
   "language": "python",
   "name": "python3"
  },
  "language_info": {
   "codemirror_mode": {
    "name": "ipython",
    "version": 3
   },
   "file_extension": ".py",
   "mimetype": "text/x-python",
   "name": "python",
   "nbconvert_exporter": "python",
   "pygments_lexer": "ipython3",
   "version": "3.8.8"
  }
 },
 "nbformat": 4,
 "nbformat_minor": 5
}
